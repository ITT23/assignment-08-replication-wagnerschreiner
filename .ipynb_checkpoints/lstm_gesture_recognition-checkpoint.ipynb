{
 "cells": [
  {
   "cell_type": "code",
   "execution_count": 7,
   "id": "72656cae-6f7f-4594-b5ff-654d53b08ab8",
   "metadata": {
    "tags": []
   },
   "outputs": [],
   "source": [
    "from matplotlib import pyplot as plt\n",
    "import numpy as np\n",
    "import os\n",
    "import random\n",
    "import pandas as pd\n",
    "from sklearn import preprocessing\n",
    "from sklearn.preprocessing import scale, MinMaxScaler\n",
    "from keras.utils import to_categorical\n",
    "from sklearn.model_selection import train_test_split\n",
    "\n",
    "os.environ['TF_CPP_MIN_LOG_LEVEL'] = '2'\n",
    "\n",
    "\n",
    "# resample signal to n samples\n",
    "from scipy.signal import resample\n",
    "\n",
    "# XML parser\n",
    "import xml.etree.ElementTree as ET\n",
    "\n",
    "# encoding and normalizing data\n",
    "from sklearn.preprocessing import LabelEncoder, StandardScaler\n",
    "\n",
    "NUM_POINTS = 50"
   ]
  },
  {
   "cell_type": "code",
   "execution_count": 3,
   "id": "97630d97-e864-4b48-b8f7-4cfdead22ea2",
   "metadata": {
    "tags": []
   },
   "outputs": [
    {
     "name": "stdout",
     "output_type": "stream",
     "text": [
      "all files loaded successfully 2\n"
     ]
    },
    {
     "data": {
      "text/plain": [
       "[('pigtail',\n",
       "  array([[-1.961446  ,  0.86252153],\n",
       "         [-2.29937285,  0.86386486],\n",
       "         [-1.56843896,  0.92048999],\n",
       "         [-1.76148613,  0.93138064],\n",
       "         [-1.88324982,  0.90992505],\n",
       "         [-1.53638684,  0.89086731],\n",
       "         [-1.5838562 ,  0.89546924],\n",
       "         [-1.60749658,  0.90273089],\n",
       "         [-1.31249614,  0.88982666],\n",
       "         [-1.26749684,  0.86674466],\n",
       "         [-1.25044031,  0.82780329],\n",
       "         [-1.02797495,  0.77993259],\n",
       "         [-1.00890479,  0.76082159],\n",
       "         [-1.03775582,  0.75159114],\n",
       "         [-0.86176541,  0.71210939],\n",
       "         [-0.75096726,  0.66658356],\n",
       "         [-0.66327153,  0.62809042],\n",
       "         [-0.48365899,  0.57624752],\n",
       "         [-0.41819782,  0.53063657],\n",
       "         [-0.36764835,  0.49563711],\n",
       "         [-0.2052769 ,  0.44146199],\n",
       "         [-0.13264647,  0.39479876],\n",
       "         [-0.08179556,  0.35342774],\n",
       "         [ 0.1227997 ,  0.22218185],\n",
       "         [ 0.32562012,  0.02922162],\n",
       "         [ 0.4440407 , -0.0756067 ],\n",
       "         [ 0.5686927 , -0.13694145],\n",
       "         [ 0.71084557, -0.30731698],\n",
       "         [ 0.84424761, -0.50348494],\n",
       "         [ 0.9169322 , -0.57228552],\n",
       "         [ 0.95004336, -0.59661034],\n",
       "         [ 1.0454464 , -0.71789871],\n",
       "         [ 1.13097781, -0.91292335],\n",
       "         [ 1.14824209, -1.07335355],\n",
       "         [ 1.19270147, -1.13738075],\n",
       "         [ 1.20471116, -1.18183936],\n",
       "         [ 1.16126802, -1.32431117],\n",
       "         [ 1.18204702, -1.4839436 ],\n",
       "         [ 1.14312961, -1.555622  ],\n",
       "         [ 0.99799441, -1.66320205],\n",
       "         [ 0.94013899, -1.81629697],\n",
       "         [ 0.8378812 , -1.81397174],\n",
       "         [ 0.60225109, -1.73010818],\n",
       "         [ 0.51309144, -1.74284411],\n",
       "         [ 0.47637835, -1.69364864],\n",
       "         [ 0.26506556, -1.50794466],\n",
       "         [ 0.08782948, -1.34909415],\n",
       "         [-0.02182757, -1.12744825],\n",
       "         [-0.15395293, -0.79066134],\n",
       "         [-0.15019022, -0.62258696],\n",
       "         [-0.1394642 , -0.55875987],\n",
       "         [-0.21870861, -0.2770563 ],\n",
       "         [-0.13702798,  0.01145011],\n",
       "         [-0.09167073,  0.10059722],\n",
       "         [-0.18054404,  0.34122857],\n",
       "         [ 0.02736665,  0.78588634],\n",
       "         [ 0.24299043,  1.05369955],\n",
       "         [ 0.22180941,  1.18052117],\n",
       "         [ 0.61189532,  1.35577196],\n",
       "         [ 1.01739048,  1.40864718],\n",
       "         [ 0.91505619,  1.3231642 ],\n",
       "         [ 1.50541527,  1.30697999],\n",
       "         [ 2.21690804,  1.25872368],\n",
       "         [ 0.59420896,  1.0421057 ]])),\n",
       " ('rectangle',\n",
       "  array([[-1.01861203, -1.03371127],\n",
       "         [-1.0721114 , -0.94362408],\n",
       "         [-1.06620201, -0.89535405],\n",
       "         [-1.06750237, -0.83270249],\n",
       "         [-1.06891326, -0.75913965],\n",
       "         [-1.06607395, -0.69096858],\n",
       "         [-1.06699507, -0.553023  ],\n",
       "         [-1.04081728, -0.49114122],\n",
       "         [-1.05708535, -0.38474516],\n",
       "         [-1.03422562, -0.29850443],\n",
       "         [-1.03483135, -0.18015905],\n",
       "         [-1.01586714, -0.02524476],\n",
       "         [-1.01233856,  0.04745654],\n",
       "         [-1.00840457,  0.1798102 ],\n",
       "         [-1.00345407,  0.34065691],\n",
       "         [-0.98326544,  0.42954738],\n",
       "         [-0.99970263,  0.53058339],\n",
       "         [-0.98260348,  0.62420671],\n",
       "         [-1.01519673,  0.67790035],\n",
       "         [-1.0041606 ,  0.75633016],\n",
       "         [-1.01750696,  0.83879271],\n",
       "         [-1.00359586,  0.91981768],\n",
       "         [-1.0169046 ,  0.97550121],\n",
       "         [-0.96237859,  1.02670049],\n",
       "         [-0.93531865,  0.99096838],\n",
       "         [-0.86176123,  0.94536927],\n",
       "         [-0.80353301,  0.94413668],\n",
       "         [-0.61498301,  0.91924901],\n",
       "         [-0.47666197,  0.96475196],\n",
       "         [-0.27079773,  0.95722526],\n",
       "         [-0.10656594,  0.91195367],\n",
       "         [ 0.14302053,  0.93488736],\n",
       "         [ 0.30543638,  0.95790217],\n",
       "         [ 0.5770113 ,  0.99135609],\n",
       "         [ 0.63835593,  0.99901375],\n",
       "         [ 0.82185664,  1.01200439],\n",
       "         [ 0.99912601,  1.05854676],\n",
       "         [ 1.24577877,  1.12029253],\n",
       "         [ 1.35042373,  1.12895721],\n",
       "         [ 1.4818369 ,  1.16913503],\n",
       "         [ 1.53626095,  1.18819991],\n",
       "         [ 1.57690198,  1.15349872],\n",
       "         [ 1.57510578,  1.08609057],\n",
       "         [ 1.52365482,  0.91174468],\n",
       "         [ 1.45689159,  0.71206708],\n",
       "         [ 1.44376424,  0.58202413],\n",
       "         [ 1.3269881 ,  0.24453884],\n",
       "         [ 1.26665688, -0.14897948],\n",
       "         [ 1.17329672, -0.58211769],\n",
       "         [ 1.16028805, -0.97602227],\n",
       "         [ 1.09797154, -1.20344334],\n",
       "         [ 1.11127248, -1.30715743],\n",
       "         [ 1.05158976, -1.42427907],\n",
       "         [ 1.04320037, -1.39652478],\n",
       "         [ 0.96314152, -1.39358772],\n",
       "         [ 0.90019811, -1.40377122],\n",
       "         [ 0.62895357, -1.52018058],\n",
       "         [ 0.57565349, -1.54679205],\n",
       "         [ 0.34967028, -1.58364532],\n",
       "         [ 0.27030746, -1.58644345],\n",
       "         [ 0.03932995, -1.56470644],\n",
       "         [-0.05011917, -1.5810982 ],\n",
       "         [-0.32599225, -1.50040503],\n",
       "         [-0.56946191, -1.42374537]]))]"
      ]
     },
     "execution_count": 3,
     "metadata": {},
     "output_type": "execute_result"
    }
   ],
   "source": [
    "gestures = ['rectangle', 'delete_mark', 'pigtail']\n",
    "data = []\n",
    "labels = []\n",
    "\n",
    "for root, subdirs, files in os.walk('dataset/xml_logs'):\n",
    "    if 'ipynb_checkpoint' in root:\n",
    "        continue\n",
    "        \n",
    "    if len(files) > 0:\n",
    "        for f in files:\n",
    "            if '.xml' in f:\n",
    "                fname = f.split('.')[0]\n",
    "                label = fname[:-2]\n",
    "                    \n",
    "                xml_root = ET.parse(f'{root}/{f}').getroot()\n",
    "                    \n",
    "                points = []\n",
    "                for element in xml_root.findall('Point'):\n",
    "                    x = element.get('X')\n",
    "                    y = element.get('Y')\n",
    "                    points.append([x, y])\n",
    "                        \n",
    "                points = np.array(points, dtype=float)\n",
    "                    \n",
    "                scaler = StandardScaler()\n",
    "                points = scaler.fit_transform(points)\n",
    "                    \n",
    "                resampled = resample(points, 64)\n",
    "                    \n",
    "                if not label in labels and label in gestures:\n",
    "                    data.append((label, resampled))\n",
    "                    labels.append(label)\n",
    "\n",
    "                if len(labels) == len(gestures):\n",
    "                    print(\"all files loaded successfully\", len(data))\n",
    "\n",
    "print(\"all files loaded successfully\", len(data))\n"
   ]
  },
  {
   "cell_type": "code",
   "execution_count": 8,
   "id": "87050294-30b5-48a8-b89c-993d4a69bf57",
   "metadata": {
    "tags": []
   },
   "outputs": [
    {
     "name": "stdout",
     "output_type": "stream",
     "text": [
      "{'pigtail', 'rectangle'}\n",
      "{0, 1}\n",
      "2\n",
      "(1, 64, 2) (1, 64, 2) (1, 2) (1, 2)\n"
     ]
    }
   ],
   "source": [
    "labels = [sample[0] for sample in data]\n",
    "print(set(labels))\n",
    "\n",
    "encoder = LabelEncoder()\n",
    "labels_encoded = encoder.fit_transform(labels)\n",
    "\n",
    "print(set(labels_encoded))\n",
    "y = to_categorical(labels_encoded)\n",
    "print(len(y[0]))\n",
    "\n",
    "sequences = [sample[1] for sample in data]\n",
    "X = np.array(sequences)\n",
    "X_train, X_test, y_train, y_test = train_test_split(X, y, test_size=0.2, random_state=42)\n",
    "print(X_train.shape, X_test.shape, y_train.shape, y_test.shape)"
   ]
  },
  {
   "cell_type": "code",
   "execution_count": 19,
   "id": "eff0ff2f",
   "metadata": {},
   "outputs": [],
   "source": [
    "def add_noise(sequence):\n",
    "    noise = np.random.normal(0,0.08,sequence.shape)\n",
    "    noise_seq = sequence + noise\n",
    "    print(noise_seq[:3])\n",
    "    return noise_seq"
   ]
  },
  {
   "cell_type": "code",
   "execution_count": 39,
   "id": "a5b06410",
   "metadata": {},
   "outputs": [],
   "source": [
    "def scaling(sequence):\n",
    "    centroid = np.mean(sequence)\n",
    "    rnd = np.random.uniform(0.8, 1.2)\n",
    "    points = sequence - centroid\n",
    "    scaled_seq = points * rnd\n",
    "    scaled_seq += centroid\n",
    "    print(\"scale \", rnd)\n",
    "    print(\"seq \", sequence[:5])\n",
    "    print(\"scaled \", scaled_seq[:5])\n",
    "    return scaled_seq"
   ]
  },
  {
   "cell_type": "code",
   "execution_count": 42,
   "id": "e9abfe59-f6b6-4368-8564-c79146d761c2",
   "metadata": {
    "tags": []
   },
   "outputs": [
    {
     "name": "stdout",
     "output_type": "stream",
     "text": [
      "scale  0.839945167594964\n",
      "seq  [[-1.961446    0.86252153]\n",
      " [-2.29937285  0.86386486]\n",
      " [-1.56843896  0.92048999]\n",
      " [-1.76148613  0.93138064]\n",
      " [-1.88324982  0.90992505]]\n",
      "scaled  [[-1.64750709  0.72447079]\n",
      " [-1.93134712  0.72559911]\n",
      " [-1.31740272  0.77316112]\n",
      " [-1.47955176  0.78230867]\n",
      " [-1.58182659  0.76428715]]\n"
     ]
    },
    {
     "data": {
      "text/plain": [
       "[<matplotlib.lines.Line2D at 0x1fe3cf6bee0>]"
      ]
     },
     "execution_count": 42,
     "metadata": {},
     "output_type": "execute_result"
    },
    {
     "data": {
      "image/png": "[encoded data removed]",
      "text/plain": [
       "<Figure size 640x480 with 1 Axes>"
      ]
     },
     "metadata": {},
     "output_type": "display_data"
    }
   ],
   "source": [
    "test_data = random.sample(data, 1)[0]\n",
    "\n",
    "label = test_data[0]\n",
    "sequence = test_data[1]\n",
    "\n",
    "#noise_seq = add_noise(sequence)\n",
    "scaled_seq = scaling(sequence)\n",
    "\n",
    "plt.plot(sequence.T[0], sequence.T[1]*-1, 'b')\n",
    "plt.plot(scaled_seq.T[0], noise_seq.T[1]*-1, 'g')\n"
   ]
  },
  {
   "cell_type": "code",
   "execution_count": null,
   "id": "79533c76-face-4e99-b128-f67b7fd0818d",
   "metadata": {},
   "outputs": [],
   "source": []
  },
  {
   "cell_type": "code",
   "execution_count": null,
   "id": "c92437f0",
   "metadata": {},
   "outputs": [],
   "source": []
  }
 ],
 "metadata": {
  "kernelspec": {
   "display_name": "Python 3 (ipykernel)",
   "language": "python",
   "name": "python3"
  },
  "language_info": {
   "codemirror_mode": {
    "name": "ipython",
    "version": 3
   },
   "file_extension": ".py",
   "mimetype": "text/x-python",
   "name": "python",
   "nbconvert_exporter": "python",
   "pygments_lexer": "ipython3",
   "version": "3.10.0"
  }
 },
 "nbformat": 4,
 "nbformat_minor": 5
}
