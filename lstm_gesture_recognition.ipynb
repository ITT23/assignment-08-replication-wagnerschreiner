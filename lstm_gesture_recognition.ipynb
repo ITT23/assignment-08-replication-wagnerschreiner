{
 "cells": [
  {
   "cell_type": "code",
   "execution_count": 1,
   "id": "72656cae-6f7f-4594-b5ff-654d53b08ab8",
   "metadata": {
    "tags": []
   },
   "outputs": [
    {
     "name": "stderr",
     "output_type": "stream",
     "text": [
      "2023-07-11 11:34:30.586389: I tensorflow/tsl/cuda/cudart_stub.cc:28] Could not find cuda drivers on your machine, GPU will not be used.\n",
      "2023-07-11 11:34:30.668704: I tensorflow/tsl/cuda/cudart_stub.cc:28] Could not find cuda drivers on your machine, GPU will not be used.\n",
      "2023-07-11 11:34:30.670526: I tensorflow/core/platform/cpu_feature_guard.cc:182] This TensorFlow binary is optimized to use available CPU instructions in performance-critical operations.\n",
      "To enable the following instructions: AVX2 FMA, in other operations, rebuild TensorFlow with the appropriate compiler flags.\n",
      "2023-07-11 11:34:32.682455: W tensorflow/compiler/tf2tensorrt/utils/py_utils.cc:38] TF-TRT Warning: Could not find TensorRT\n"
     ]
    }
   ],
   "source": [
    "from matplotlib import pyplot as plt\n",
    "import numpy as np\n",
    "import os\n",
    "import random\n",
    "import pandas as pd\n",
    "from sklearn import preprocessing\n",
    "from sklearn.preprocessing import scale, MinMaxScaler\n",
    "from keras.utils import to_categorical\n",
    "from sklearn.model_selection import train_test_split\n",
    "from scipy.spatial.transform import Rotation as R\n",
    "\n",
    "os.environ['TF_CPP_MIN_LOG_LEVEL'] = '2'\n",
    "\n",
    "\n",
    "# resample signal to n samples\n",
    "from scipy.signal import resample\n",
    "\n",
    "# XML parser\n",
    "import xml.etree.ElementTree as ET\n",
    "\n",
    "# encoding and normalizing data\n",
    "from sklearn.preprocessing import LabelEncoder, StandardScaler\n",
    "\n",
    "NUM_POINTS = 50"
   ]
  },
  {
   "cell_type": "code",
   "execution_count": 2,
   "id": "97630d97-e864-4b48-b8f7-4cfdead22ea2",
   "metadata": {
    "tags": []
   },
   "outputs": [
    {
     "name": "stdout",
     "output_type": "stream",
     "text": [
      "all files loaded successfully 3\n",
      "all files loaded successfully 3\n",
      "all files loaded successfully 3\n",
      "all files loaded successfully 3\n",
      "all files loaded successfully 3\n",
      "all files loaded successfully 3\n",
      "all files loaded successfully 3\n",
      "all files loaded successfully 3\n",
      "all files loaded successfully 3\n",
      "all files loaded successfully 3\n",
      "all files loaded successfully 3\n",
      "all files loaded successfully 3\n",
      "all files loaded successfully 3\n",
      "all files loaded successfully 3\n",
      "all files loaded successfully 3\n",
      "all files loaded successfully 3\n",
      "all files loaded successfully 3\n",
      "all files loaded successfully 3\n",
      "all files loaded successfully 3\n",
      "all files loaded successfully 3\n",
      "all files loaded successfully 3\n",
      "all files loaded successfully 3\n",
      "all files loaded successfully 3\n",
      "all files loaded successfully 3\n",
      "all files loaded successfully 3\n",
      "all files loaded successfully 3\n",
      "all files loaded successfully 3\n",
      "all files loaded successfully 3\n",
      "all files loaded successfully 3\n",
      "all files loaded successfully 3\n",
      "all files loaded successfully 3\n",
      "all files loaded successfully 3\n",
      "all files loaded successfully 3\n",
      "all files loaded successfully 3\n"
     ]
    }
   ],
   "source": [
    "gestures = ['rectangle', 'delete_mark', 'pigtail']\n",
    "data = []\n",
    "labels = []\n",
    "\n",
    "for root, subdirs, files in os.walk('dataset/xml_logs'):\n",
    "    if 'ipynb_checkpoint' in root:\n",
    "        continue\n",
    "        \n",
    "    if len(files) > 0:\n",
    "        for f in files:\n",
    "            if '.xml' in f:\n",
    "                fname = f.split('.')[0]\n",
    "                label = fname[:-2]\n",
    "                    \n",
    "                xml_root = ET.parse(f'{root}/{f}').getroot()\n",
    "                    \n",
    "                points = []\n",
    "                for element in xml_root.findall('Point'):\n",
    "                    x = element.get('X')\n",
    "                    y = element.get('Y')\n",
    "                    points.append([x, y])\n",
    "                        \n",
    "                points = np.array(points, dtype=float)\n",
    "                    \n",
    "                # scaler = StandardScaler()\n",
    "                # points = scaler.fit_transform(points)\n",
    "                    \n",
    "                #resampled = resample(points, 64)\n",
    "                    \n",
    "                if not label in labels and label in gestures:\n",
    "                    data.append((label, points))\n",
    "                    labels.append(label)\n",
    "\n",
    "                if len(labels) == len(gestures):\n",
    "                    print(\"all files loaded successfully\", len(data))\n",
    "                    break\n",
    "\n",
    "print(\"all files loaded successfully\", len(data))\n"
   ]
  },
  {
   "cell_type": "code",
   "execution_count": 3,
   "id": "87050294-30b5-48a8-b89c-993d4a69bf57",
   "metadata": {
    "tags": []
   },
   "outputs": [],
   "source": [
    "# labels = [sample[0] for sample in data]\n",
    "# print(set(labels))\n",
    "\n",
    "# encoder = LabelEncoder()\n",
    "# labels_encoded = encoder.fit_transform(labels)\n",
    "\n",
    "# print(set(labels_encoded))\n",
    "# y = to_categorical(labels_encoded)\n",
    "# print(len(y[0]))\n",
    "\n",
    "# sequences = [sample[1] for sample in data]\n",
    "# X = np.array(sequences)\n",
    "# X_train, X_test, y_train, y_test = train_test_split(X, y, test_size=0.2, random_state=42)\n",
    "# print(X_train.shape, X_test.shape, y_train.shape, y_test.shape)"
   ]
  },
  {
   "cell_type": "code",
   "execution_count": 4,
   "id": "eff0ff2f",
   "metadata": {},
   "outputs": [],
   "source": [
    "def add_noise(sequence):\n",
    "    noise = np.random.normal(0,0.08,sequence.shape)\n",
    "    noise_seq = sequence + noise\n",
    "    return noise_seq"
   ]
  },
  {
   "cell_type": "code",
   "execution_count": 5,
   "id": "a5b06410",
   "metadata": {},
   "outputs": [],
   "source": [
    "def scaling(sequence):\n",
    "    centroid = np.mean(sequence)\n",
    "    rnd_x = np.random.uniform(0.8, 1.2)\n",
    "    rnd_y = np.random.uniform(0.8, 1.2)\n",
    "    points = sequence - centroid\n",
    "    scaled_seq=[]\n",
    "    for x, y in points:\n",
    "        scaled_x = x*rnd_x\n",
    "        scaled_y = y*rnd_y \n",
    "        scaled_seq.append([scaled_x,scaled_y])\n",
    "    scaled_seq += centroid\n",
    "    return scaled_seq"
   ]
  },
  {
   "cell_type": "code",
   "execution_count": 6,
   "id": "d4983f0c",
   "metadata": {},
   "outputs": [],
   "source": [
    "def spatial_resampling(sequence):\n",
    "    resampled_seq = resample(sequence, np.random.randint(5, len(sequence)*2))\n",
    "    return resampled_seq"
   ]
  },
  {
   "cell_type": "code",
   "execution_count": 7,
   "id": "2cb43733",
   "metadata": {},
   "outputs": [],
   "source": [
    "def perspective_change(sequence):\n",
    "    persp_seq = []\n",
    "    centroid = np.mean(sequence)\n",
    "    angle = np.random.uniform(-30, 30)\n",
    "    r = R.from_euler('yx', [angle, angle], degrees=True)\n",
    "    sequence = sequence - centroid\n",
    "    for point in sequence:\n",
    "        point=np.append(point, 1)\n",
    "        new_point = np.array(r.as_matrix() @ point)\n",
    "        persp_seq.append(new_point[:-1]) \n",
    "    persp_seq += centroid\n",
    "    return persp_seq"
   ]
  },
  {
   "cell_type": "code",
   "execution_count": 8,
   "id": "a0bb3ae2",
   "metadata": {},
   "outputs": [],
   "source": [
    "def skip_frames(sequence):\n",
    "    skipped_seq = []\n",
    "    for point in sequence:\n",
    "        if np.random.uniform(high=1.0) >= 0.8:\n",
    "            skipped_seq.append(point)\n",
    "    return np.asarray(skipped_seq)"
   ]
  },
  {
   "cell_type": "code",
   "execution_count": 9,
   "id": "5231523c",
   "metadata": {},
   "outputs": [],
   "source": [
    "def rotate(sequence):\n",
    "    centroid = np.mean(sequence)\n",
    "    points = sequence - centroid\n",
    "    angle = np.random.randint(0, high=359)\n",
    "    print(f'Angle: {angle}')\n",
    "    r = R.from_euler('z', angle, degrees=True)\n",
    "    mat = r.as_matrix()\n",
    "    print(mat)\n",
    "    points_transformed = []\n",
    "    for p in points:\n",
    "        p = np.append(p, 1)\n",
    "        result = np.array(mat @ p)\n",
    "        result /= result[2]\n",
    "        points_transformed.append(result[:-1])\n",
    "    points_transformed += centroid\n",
    "    return points_transformed"
   ]
  },
  {
   "cell_type": "code",
   "execution_count": 10,
   "id": "e9abfe59-f6b6-4368-8564-c79146d761c2",
   "metadata": {
    "tags": []
   },
   "outputs": [
    {
     "name": "stdout",
     "output_type": "stream",
     "text": [
      "Angle: 112\n",
      "[[-0.37460659 -0.92718385  0.        ]\n",
      " [ 0.92718385 -0.37460659  0.        ]\n",
      " [ 0.          0.          1.        ]]\n"
     ]
    },
    {
     "data": {
      "text/plain": [
       "[<matplotlib.lines.Line2D at 0x7fafb1407cd0>]"
      ]
     },
     "execution_count": 10,
     "metadata": {},
     "output_type": "execute_result"
    },
    {
     "data": {
      "image/png": "[encoded data removed]",
      "text/plain": [
       "<Figure size 640x480 with 1 Axes>"
      ]
     },
     "metadata": {},
     "output_type": "display_data"
    }
   ],
   "source": [
    "test_data = random.sample(data, 1)[0]\n",
    "\n",
    "label = test_data[0]\n",
    "sequence = test_data[1]\n",
    "\n",
    "noise_seq = add_noise(sequence)\n",
    "skipped_seq = skip_frames(noise_seq)\n",
    "resampled_seq = spatial_resampling(skipped_seq)\n",
    "persp_seq = perspective_change(resampled_seq)\n",
    "rotated_seq = rotate(persp_seq)\n",
    "scaled_seq = scaling(rotated_seq)\n",
    "\n",
    "\n",
    "plt.plot(sequence.T[0], sequence.T[1]*-1, 'b')\n",
    "plt.plot(scaled_seq.T[0], scaled_seq.T[1]*-1, 'g')\n"
   ]
  },
  {
   "cell_type": "code",
   "execution_count": null,
   "id": "79533c76-face-4e99-b128-f67b7fd0818d",
   "metadata": {},
   "outputs": [],
   "source": []
  },
  {
   "cell_type": "code",
   "execution_count": null,
   "id": "c92437f0",
   "metadata": {},
   "outputs": [],
   "source": []
  }
 ],
 "metadata": {
  "kernelspec": {
   "display_name": "Python 3 (ipykernel)",
   "language": "python",
   "name": "python3"
  },
  "language_info": {
   "codemirror_mode": {
    "name": "ipython",
    "version": 3
   },
   "file_extension": ".py",
   "mimetype": "text/x-python",
   "name": "python",
   "nbconvert_exporter": "python",
   "pygments_lexer": "ipython3",
   "version": "3.11.3"
  }
 },
 "nbformat": 4,
 "nbformat_minor": 5
}
