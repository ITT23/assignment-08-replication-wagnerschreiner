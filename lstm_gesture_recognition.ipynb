{
 "cells": [
  {
   "cell_type": "code",
   "execution_count": 1,
   "id": "72656cae-6f7f-4594-b5ff-654d53b08ab8",
   "metadata": {
    "tags": []
   },
   "outputs": [],
   "source": [
    "from matplotlib import pyplot as plt\n",
    "import numpy as np\n",
    "import os\n",
    "import random\n",
    "import pandas as pd\n",
    "from sklearn import preprocessing\n",
    "from sklearn.preprocessing import scale, MinMaxScaler\n",
    "from keras.utils import to_categorical\n",
    "from sklearn.model_selection import train_test_split\n",
    "\n",
    "os.environ['TF_CPP_MIN_LOG_LEVEL'] = '2'\n",
    "\n",
    "\n",
    "# resample signal to n samples\n",
    "from scipy.signal import resample\n",
    "\n",
    "# XML parser\n",
    "import xml.etree.ElementTree as ET\n",
    "\n",
    "# encoding and normalizing data\n",
    "from sklearn.preprocessing import LabelEncoder, StandardScaler\n",
    "\n",
    "NUM_POINTS = 50"
   ]
  },
  {
   "cell_type": "code",
   "execution_count": 29,
   "id": "97630d97-e864-4b48-b8f7-4cfdead22ea2",
   "metadata": {
    "tags": []
   },
   "outputs": [
    {
     "name": "stdout",
     "output_type": "stream",
     "text": [
      "all files loaded successfully 3\n",
      "all files loaded successfully 3\n",
      "all files loaded successfully 3\n",
      "all files loaded successfully 3\n",
      "all files loaded successfully 3\n",
      "all files loaded successfully 3\n",
      "all files loaded successfully 3\n",
      "all files loaded successfully 3\n",
      "all files loaded successfully 3\n",
      "all files loaded successfully 3\n",
      "all files loaded successfully 3\n",
      "all files loaded successfully 3\n",
      "all files loaded successfully 3\n",
      "all files loaded successfully 3\n",
      "all files loaded successfully 3\n",
      "all files loaded successfully 3\n",
      "all files loaded successfully 3\n",
      "all files loaded successfully 3\n",
      "all files loaded successfully 3\n",
      "all files loaded successfully 3\n",
      "all files loaded successfully 3\n",
      "all files loaded successfully 3\n",
      "all files loaded successfully 3\n",
      "all files loaded successfully 3\n",
      "all files loaded successfully 3\n",
      "all files loaded successfully 3\n",
      "all files loaded successfully 3\n",
      "all files loaded successfully 3\n",
      "all files loaded successfully 3\n",
      "all files loaded successfully 3\n",
      "all files loaded successfully 3\n",
      "all files loaded successfully 3\n",
      "all files loaded successfully 3\n",
      "all files loaded successfully 3\n"
     ]
    }
   ],
   "source": [
    "gestures = ['rectangle', 'delete_mark', 'pigtail']\n",
    "data = []\n",
    "labels = []\n",
    "\n",
    "for root, subdirs, files in os.walk('dataset/xml_logs'):\n",
    "    if 'ipynb_checkpoint' in root:\n",
    "        continue\n",
    "        \n",
    "    if len(files) > 0:\n",
    "        for f in files:\n",
    "            if '.xml' in f:\n",
    "                fname = f.split('.')[0]\n",
    "                label = fname[:-2]\n",
    "                    \n",
    "                xml_root = ET.parse(f'{root}/{f}').getroot()\n",
    "                    \n",
    "                points = []\n",
    "                for element in xml_root.findall('Point'):\n",
    "                    x = element.get('X')\n",
    "                    y = element.get('Y')\n",
    "                    points.append([x, y])\n",
    "                        \n",
    "                points = np.array(points, dtype=float)\n",
    "                    \n",
    "                scaler = StandardScaler()\n",
    "                points = scaler.fit_transform(points)\n",
    "                    \n",
    "                #resampled = resample(points, 64)\n",
    "                    \n",
    "                if not label in labels and label in gestures:\n",
    "                    data.append((label, points))\n",
    "                    labels.append(label)\n",
    "\n",
    "                if len(labels) == len(gestures):\n",
    "                    print(\"all files loaded successfully\", len(data))\n",
    "                    break\n",
    "\n",
    "print(\"all files loaded successfully\", len(data))\n"
   ]
  },
  {
   "cell_type": "code",
   "execution_count": 30,
   "id": "87050294-30b5-48a8-b89c-993d4a69bf57",
   "metadata": {
    "tags": []
   },
   "outputs": [
    {
     "name": "stdout",
     "output_type": "stream",
     "text": [
      "{'rectangle', 'delete_mark', 'pigtail'}\n",
      "{0, 1, 2}\n",
      "3\n",
      "(2,) (1,) (2, 3) (1, 3)\n"
     ]
    },
    {
     "name": "stderr",
     "output_type": "stream",
     "text": [
      "C:\\Users\\sinas\\AppData\\Local\\Temp\\ipykernel_23280\\3808467487.py:12: VisibleDeprecationWarning: Creating an ndarray from ragged nested sequences (which is a list-or-tuple of lists-or-tuples-or ndarrays with different lengths or shapes) is deprecated. If you meant to do this, you must specify 'dtype=object' when creating the ndarray.\n",
      "  X = np.array(sequences)\n"
     ]
    }
   ],
   "source": [
    "labels = [sample[0] for sample in data]\n",
    "print(set(labels))\n",
    "\n",
    "encoder = LabelEncoder()\n",
    "labels_encoded = encoder.fit_transform(labels)\n",
    "\n",
    "print(set(labels_encoded))\n",
    "y = to_categorical(labels_encoded)\n",
    "print(len(y[0]))\n",
    "\n",
    "sequences = [sample[1] for sample in data]\n",
    "X = np.array(sequences)\n",
    "X_train, X_test, y_train, y_test = train_test_split(X, y, test_size=0.2, random_state=42)\n",
    "print(X_train.shape, X_test.shape, y_train.shape, y_test.shape)"
   ]
  },
  {
   "cell_type": "code",
   "execution_count": 4,
   "id": "eff0ff2f",
   "metadata": {},
   "outputs": [],
   "source": [
    "def add_noise(sequence):\n",
    "    noise = np.random.normal(0,0.08,sequence.shape)\n",
    "    noise_seq = sequence + noise\n",
    "    return noise_seq"
   ]
  },
  {
   "cell_type": "code",
   "execution_count": 26,
   "id": "a5b06410",
   "metadata": {},
   "outputs": [],
   "source": [
    "def scaling(sequence):\n",
    "    centroid = np.mean(sequence)\n",
    "    rnd_x = np.random.uniform(0.8, 1.2)\n",
    "    rnd_y = np.random.uniform(0.8, 1.2)\n",
    "    points = sequence - centroid\n",
    "    scaled_seq=[]\n",
    "    for x, y in points:\n",
    "        scaled_x = x*rnd_x\n",
    "        scaled_y = y*rnd_y \n",
    "        scaled_seq.append([scaled_x,scaled_y])\n",
    "    scaled_seq += centroid\n",
    "    return scaled_seq"
   ]
  },
  {
   "cell_type": "code",
   "execution_count": 32,
   "id": "d4983f0c",
   "metadata": {},
   "outputs": [],
   "source": [
    "def spatial_resampling(sequence):\n",
    "    resampled_seq = resample(sequence, np.random.randint(5, len(sequence)*2))\n",
    "    return resampled_seq"
   ]
  },
  {
   "cell_type": "code",
   "execution_count": 78,
   "id": "2cb43733",
   "metadata": {},
   "outputs": [],
   "source": [
    "from scipy.spatial.transform import Rotation as R\n",
    "\n",
    "def perspective_change(sequence):\n",
    "    persp_seq = []\n",
    "    centroid = np.mean(sequence)\n",
    "    angle = np.random.uniform(-30, 30)\n",
    "    r = R.from_euler('yx', [angle, angle], degrees=True)\n",
    "    sequence = sequence - centroid\n",
    "    for point in sequence:\n",
    "        point=np.append(point, 1)\n",
    "        new_point = np.array(r.as_matrix() @ point)\n",
    "        persp_seq.append(new_point[:-1]) \n",
    "    persp_seq += centroid\n",
    "    return persp_seq"
   ]
  },
  {
   "cell_type": "code",
   "execution_count": 79,
   "id": "e9abfe59-f6b6-4368-8564-c79146d761c2",
   "metadata": {
    "tags": []
   },
   "outputs": [
    {
     "name": "stdout",
     "output_type": "stream",
     "text": [
      "[[-2.06881753  0.74078248]\n",
      " [-1.76806765  0.8025606 ]\n",
      " [-1.76671698  0.86283697]]\n",
      "scale  0.9988076592257678 1.0657243315754061\n",
      "seq  [[-1.961446    0.86252153]\n",
      " [-1.85357075  0.8966647 ]\n",
      " [-1.78165392  0.93080787]\n",
      " [-1.67377867  0.8966647 ]\n",
      " [-1.60186184  0.8966647 ]]\n",
      "scaled  [[-1.95910729  0.91921018]\n",
      " [-1.85136067  0.95559739]\n",
      " [-1.77952958  0.9919846 ]\n",
      " [-1.67178296  0.95559739]\n",
      " [-1.59995187  0.95559739]]\n",
      "new_Seq [[-2.05219292  0.93844612]\n",
      " [-1.94486625  0.97351003]\n",
      " [-1.87331514  1.00820916]\n",
      " [-1.76598848  0.97533399]\n",
      " [-1.69443737  0.97606358]]\n"
     ]
    },
    {
     "data": {
      "text/plain": [
       "[<matplotlib.lines.Line2D at 0x14df7c8bc70>]"
      ]
     },
     "execution_count": 79,
     "metadata": {},
     "output_type": "execute_result"
    },
    {
     "data": {
      "image/png": "[encoded data removed]",
      "text/plain": [
       "<Figure size 640x480 with 1 Axes>"
      ]
     },
     "metadata": {},
     "output_type": "display_data"
    }
   ],
   "source": [
    "test_data = random.sample(data, 1)[0]\n",
    "\n",
    "label = test_data[0]\n",
    "sequence = test_data[1]\n",
    "\n",
    "noise_seq = add_noise(sequence)\n",
    "scaled_seq = scaling(sequence)\n",
    "resampled_seq = spatial_resampling(sequence)\n",
    "persp_seq = perspective_change(sequence)\n",
    "\n",
    "plt.plot(sequence.T[0], sequence.T[1]*-1, 'b')\n",
    "plt.plot(persp_seq.T[0], persp_seq.T[1]*-1, 'g')\n"
   ]
  },
  {
   "cell_type": "code",
   "execution_count": null,
   "id": "79533c76-face-4e99-b128-f67b7fd0818d",
   "metadata": {},
   "outputs": [],
   "source": []
  },
  {
   "cell_type": "code",
   "execution_count": null,
   "id": "c92437f0",
   "metadata": {},
   "outputs": [],
   "source": []
  }
 ],
 "metadata": {
  "kernelspec": {
   "display_name": "Python 3 (ipykernel)",
   "language": "python",
   "name": "python3"
  },
  "language_info": {
   "codemirror_mode": {
    "name": "ipython",
    "version": 3
   },
   "file_extension": ".py",
   "mimetype": "text/x-python",
   "name": "python",
   "nbconvert_exporter": "python",
   "pygments_lexer": "ipython3",
   "version": "3.10.0"
  }
 },
 "nbformat": 4,
 "nbformat_minor": 5
}
